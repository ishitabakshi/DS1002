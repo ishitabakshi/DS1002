{
  "cells": [
    {
      "cell_type": "markdown",
      "metadata": {
        "id": "view-in-github",
        "colab_type": "text"
      },
      "source": [
        "<a href=\"https://colab.research.google.com/github/ishitabakshi/DS1002/blob/main/Bakshi_Guessing_game_assignment.ipynb\" target=\"_parent\"><img src=\"https://colab.research.google.com/assets/colab-badge.svg\" alt=\"Open In Colab\"/></a>"
      ]
    },
    {
      "cell_type": "code",
      "execution_count": null,
      "metadata": {
        "id": "Cd8TkL-y0rLH"
      },
      "outputs": [],
      "source": [
        "import random\n",
        "beg = 0\n",
        "end = 100\n",
        "random_number = random.randint (beg, end)\n",
        "\n",
        "question = input(\"Are you ready to begin the number game (yes or no)\")\n",
        "while True:\n",
        "  if question.lower() == \"yes\":\n",
        "    print(\"We are selecting a number between 0 and 100. Your goal is to try and guess the number.\")\n",
        "    break\n",
        "  elif question.lower() == \"no\":\n",
        "    print(\"Come back later!\")\n",
        "    break\n",
        "  else:\n",
        "    print(\"Invalid input. Please enter Yes or No.\")\n",
        "    break\n",
        "\n",
        "guess = int(input(\"Guess what the number is: \"))\n",
        "while True:\n",
        "  try:\n",
        "    if guess == random_number:\n",
        "      print(\"Correct! You got it!\")\n",
        "      break\n",
        "    elif guess > random_number:\n",
        "      print(\"Too high! Try again.\")\n",
        "      guess = int(input(\"Guess what the number is: \"))\n",
        "    else:\n",
        "      print(\"Too low! Try again.\")\n",
        "      guess = int(input(\"Guess what the number is: \"))\n",
        "  except ValueError:\n",
        "    print(\"Invalid input. Please enter a number between 0 and 100.\")\n",
        "\n",
        "#this assigmnet was challenging for me and took over an hour"
      ]
    }
  ],
  "metadata": {
    "colab": {
      "provenance": [],
      "authorship_tag": "ABX9TyOLumu7RNCshswgOVLR+U5x",
      "include_colab_link": true
    },
    "kernelspec": {
      "display_name": "Python 3",
      "name": "python3"
    },
    "language_info": {
      "name": "python"
    }
  },
  "nbformat": 4,
  "nbformat_minor": 0
}