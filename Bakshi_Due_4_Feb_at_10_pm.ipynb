{
  "nbformat": 4,
  "nbformat_minor": 0,
  "metadata": {
    "colab": {
      "provenance": [],
      "include_colab_link": true
    },
    "kernelspec": {
      "name": "python3",
      "display_name": "Python 3"
    },
    "language_info": {
      "name": "python"
    }
  },
  "cells": [
    {
      "cell_type": "markdown",
      "metadata": {
        "id": "view-in-github",
        "colab_type": "text"
      },
      "source": [
        "<a href=\"https://colab.research.google.com/github/ishitabakshi/DS1002/blob/main/Bakshi_Due_4_Feb_at_10_pm.ipynb\" target=\"_parent\"><img src=\"https://colab.research.google.com/assets/colab-badge.svg\" alt=\"Open In Colab\"/></a>"
      ]
    },
    {
      "cell_type": "markdown",
      "source": [
        "## DS 1002 homework due Sunday Feb 4 at 10 pm\n"
      ],
      "metadata": {
        "id": "zAw2bmn-TjFJ"
      }
    },
    {
      "cell_type": "markdown",
      "source": [
        "\n",
        "The notebook from Wednesday's class is in my GitHib repository, including the little script we wrote at the end to find mangos in a list of fruit.  The file is called `MorePythonBasics.ipynb`.\n",
        "\n",
        "(By the way I wondered if the correct spelling was \"mangos\" or \"mangoes\" and I found [this](https://www.mango.org/blog-mangos-or-mangoes/)!  Who knew?  There's a National Mango Board!  And they're prepared to adjudicate this and other difficult mango-related questions.)\n",
        "\n",
        "\n"
      ],
      "metadata": {
        "id": "Cmf4xleCSWCu"
      }
    },
    {
      "cell_type": "markdown",
      "source": [
        "### Problem 1:  finding fruit\n",
        "\n",
        "Adapt the function we wrote in class so that it takes two arguments,\n",
        "\n",
        "`fruit` and `hungryfor` ,\n",
        "\n",
        "and then searches through the list `fruit` for the item `hungryfor`.  The line that calls the function should look like\n",
        "\n",
        "`find_fruit(food, hungryfor)`\n",
        "\n",
        "Make it print out the results in the same way, so for example if `food` is what we entered in class and `hungryfor = \"tomatoes\"` then the output will be\n",
        "\n",
        "```python\n",
        "No tomatoes here.\n",
        "No tomatoes here.\n",
        "No tomatoes here.\n",
        "No tomatoes here.\n",
        "No tomatoes here.\n",
        "```\n",
        "Test your code by changing the values of `food` and `hungryfor` and make sure the output is what you expect.  Show a few outputs, each in its own code chunk.\n",
        "\n"
      ],
      "metadata": {
        "id": "rJLyGryAThhp"
      }
    },
    {
      "cell_type": "code",
      "source": [
        "# put code here\n",
        "fruit = [\"apples\", \"mangoes\", \"peaches\", \"strawberries\"]\n",
        "\n",
        "def find_fruit(food, hungryfor):\n",
        "  for fruit in food:\n",
        "    if fruit == hungryfor:\n",
        "      print(\"Yay! I found \"+hungryfor+\"!\")\n",
        "    else:\n",
        "      print(\"Aw, no \" +hungryfor+\" here.\")\n",
        "\n",
        "find_fruit(fruit, 'apples')"
      ],
      "metadata": {
        "id": "YXwLLFCt6H2f",
        "colab": {
          "base_uri": "https://localhost:8080/"
        },
        "outputId": "d953b31c-a451-4887-aaf0-582e345d9ce6"
      },
      "execution_count": 45,
      "outputs": [
        {
          "output_type": "stream",
          "name": "stdout",
          "text": [
            "Yay! I found apples!\n",
            "Aw, no apples here.\n",
            "Aw, no apples here.\n",
            "Aw, no apples here.\n"
          ]
        }
      ]
    },
    {
      "cell_type": "markdown",
      "source": [],
      "metadata": {
        "id": "GjyMAg_cAnyM"
      }
    },
    {
      "cell_type": "code",
      "source": [
        "# put your first function call here, and make more code chunks for additional function calls"
      ],
      "metadata": {
        "id": "bYdqsfrh6KnE"
      },
      "execution_count": null,
      "outputs": []
    },
    {
      "cell_type": "markdown",
      "source": [
        "### Problem 2:  the `input()` function\n",
        "\n",
        "(a) Programming gets way more fun when you start to interact with your own programs!  Here is a function that lets you start doing that.  Run the following code and see what happens:\n"
      ],
      "metadata": {
        "id": "R-s9cZ6GYWNX"
      }
    },
    {
      "cell_type": "code",
      "source": [
        "input()\n",
        "print(\"Hello there!\")"
      ],
      "metadata": {
        "id": "IEK8O2qNYkXn",
        "colab": {
          "base_uri": "https://localhost:8080/"
        },
        "outputId": "4c3431c8-c02f-4b0b-c9b3-b3461d24c448"
      },
      "execution_count": null,
      "outputs": [
        {
          "output_type": "stream",
          "name": "stdout",
          "text": [
            "Ishita\n",
            "Hello there!\n"
          ]
        }
      ]
    },
    {
      "cell_type": "markdown",
      "source": [
        "(b) As you just saw, the code waits for you to enter something before it continues.  If you want to actually use the input in the code, you should assign its value to a variable:"
      ],
      "metadata": {
        "id": "sktZu8wWzFF6"
      }
    },
    {
      "cell_type": "code",
      "source": [
        "message = input(\"What is your name?: \")\n",
        "print(message)\n",
        "\n",
        "print(\"Hello \" + message)"
      ],
      "metadata": {
        "id": "fMmBkzbyz9Ty",
        "colab": {
          "base_uri": "https://localhost:8080/"
        },
        "outputId": "8c997518-b967-4444-d0e0-2ae124ac80ac"
      },
      "execution_count": null,
      "outputs": [
        {
          "output_type": "stream",
          "name": "stdout",
          "text": [
            "What is your name?: nived\n",
            "nived\n",
            "Hello nived\n"
          ]
        }
      ]
    },
    {
      "cell_type": "markdown",
      "source": [
        "(c) Now you can start interacting.  Write some code that asks the user what they are hungry for (using a print statement), and then takes the user input, and then runs the `find_fruit` function from the previous code block using the user input as the `hungryfor` variable.  Test your code, and then include a few different outputs that demonstrate that the code works."
      ],
      "metadata": {
        "id": "ny41z-dQYmjQ"
      }
    },
    {
      "cell_type": "code",
      "source": [
        "# put code here\n",
        "question = input(\"What are you hungry for? \")\n",
        "find_fruit(fruit, question)"
      ],
      "metadata": {
        "id": "SKAVoAZ00xOx",
        "colab": {
          "base_uri": "https://localhost:8080/"
        },
        "outputId": "dc523820-5d59-4484-d33b-3d23b5081c77"
      },
      "execution_count": 42,
      "outputs": [
        {
          "output_type": "stream",
          "name": "stdout",
          "text": [
            "What are you hungry for? apples\n",
            "Yay! I found apples!\n",
            "Aw, no apples here.\n",
            "Aw, no apples here.\n",
            "Aw, no apples here.\n"
          ]
        }
      ]
    },
    {
      "cell_type": "code",
      "source": [
        "question = input(\"What are you hungry for? \")\n",
        "find_fruit(fruit, question)"
      ],
      "metadata": {
        "id": "sQQVP1oa5dR7",
        "colab": {
          "base_uri": "https://localhost:8080/"
        },
        "outputId": "41e388bf-5476-4a67-82c1-4008e317b36b"
      },
      "execution_count": 46,
      "outputs": [
        {
          "output_type": "stream",
          "name": "stdout",
          "text": [
            "What are you hungry for? mangoes\n",
            "Aw, no mangoes here.\n",
            "Yay! I found mangoes!\n",
            "Aw, no mangoes here.\n",
            "Aw, no mangoes here.\n"
          ]
        }
      ]
    },
    {
      "cell_type": "markdown",
      "source": [
        "### Problem 3:  ratings  \n",
        "Write a piece of code which prompts a user with the question \"What is your rating? (1-10)\" and then asks for user input.  Let's say the input is 3.  Once the input is received, print out a message that says.\n",
        "\n",
        "\"Your rating is *** .\"\n",
        "\n",
        "Obviously, your program should print the number of stars corresponding to the input!  If the input is 5, it should print\n",
        "\n",
        "\"Your rating is ***** .\"\n",
        "\n",
        "Show at least two outputs of your code."
      ],
      "metadata": {
        "id": "5CWOlHBz0xoZ"
      }
    },
    {
      "cell_type": "code",
      "source": [
        "# put code here\n",
        "question = input(\"What is your rating? (1-10) \")\n",
        "print(\"Your rating is \" + question +'.')"
      ],
      "metadata": {
        "id": "MCWnTAUW2Gin",
        "colab": {
          "base_uri": "https://localhost:8080/"
        },
        "outputId": "ce1a2ab5-cfa8-4a29-f7bf-0fdadd97d329"
      },
      "execution_count": 39,
      "outputs": [
        {
          "output_type": "stream",
          "name": "stdout",
          "text": [
            "What is your rating? (1-10) 3\n",
            "Your rating is 3.\n"
          ]
        }
      ]
    },
    {
      "cell_type": "code",
      "source": [
        "# you might have to copy the code to show another output\n",
        "question = input(\"What is your rating? (1-10) \")\n",
        "print(\"Your rating is \" + question +'.')"
      ],
      "metadata": {
        "id": "nxm67oCk8Ukn",
        "colab": {
          "base_uri": "https://localhost:8080/"
        },
        "outputId": "acae77fb-0112-437f-c922-10fe1be453d4"
      },
      "execution_count": 47,
      "outputs": [
        {
          "output_type": "stream",
          "name": "stdout",
          "text": [
            "What is your rating? (1-10) 7\n",
            "Your rating is 7.\n"
          ]
        }
      ]
    },
    {
      "cell_type": "markdown",
      "source": [
        "You do not have to do this as part of the assignment, but one thing to think about with any code that has **interactivity** is that you want to make it **robust**.  This means you should imagine someone is *trying* to break your code, and you should try to make it as indestructible as possible.\n",
        "\n",
        "What will happen to your code if someone enters 3.5?  Or -12?  Or \"nonsense\"?  Test it and see.  Think about how you might guard against errors.\n"
      ],
      "metadata": {
        "id": "VRfc9puT2yac"
      }
    }
  ]
}