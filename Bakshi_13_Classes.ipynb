{
  "nbformat": 4,
  "nbformat_minor": 0,
  "metadata": {
    "colab": {
      "provenance": [],
      "include_colab_link": true
    },
    "kernelspec": {
      "name": "python3",
      "display_name": "Python 3"
    },
    "language_info": {
      "name": "python"
    }
  },
  "cells": [
    {
      "cell_type": "markdown",
      "metadata": {
        "id": "view-in-github",
        "colab_type": "text"
      },
      "source": [
        "<a href=\"https://colab.research.google.com/github/ishitabakshi/DS1002/blob/main/Bakshi_13_Classes.ipynb\" target=\"_parent\"><img src=\"https://colab.research.google.com/assets/colab-badge.svg\" alt=\"Open In Colab\"/></a>"
      ]
    },
    {
      "cell_type": "markdown",
      "source": [
        "## Assignment:  Classes\n",
        "### Due Sunday 28 April at 10pm"
      ],
      "metadata": {
        "id": "5Vy93BSp9Tum"
      }
    },
    {
      "cell_type": "markdown",
      "source": [
        "1.  Define a class called `Person` that has attributes `lastName`, `firstName`, `mother`, and `father`.  Both `mother` and `father` should have default value `unknown`.\n",
        "\n",
        "  Include a `__str__()` function that returns a string of the form '`firstName` `lastName`'.\n",
        "\n",
        "  Include a `__repr__()` function that returns a string that can be evaluated to recreate the `Person` object.\n",
        "\n"
      ],
      "metadata": {
        "id": "vcj5XQAI9Wsb"
      }
    },
    {
      "cell_type": "code",
      "source": [
        "class Person:\n",
        "  def __init__(self, lastName, firstName, mother='unknown', father='unknown'): # defines the 'Person' class using 4 paramteters\n",
        "    self.lastName = lastName\n",
        "    self.firstName = firstName\n",
        "    self.mother = mother\n",
        "    self.father = father\n",
        "\n",
        "  def __str__(self):\n",
        "    return f\"{self.firstName} {self.lastName}\" # constructs a string of the full name of the person, printed as \"firstName lastName\"\n",
        "  def __repr__(self):\n",
        "    return f\"Person('{self.lastName}', '{self.firstName}', '{self.mother}', '{self.father}')\" # constructs a string that represents the creation of a Person object\n"
      ],
      "metadata": {
        "id": "mjHDwHv3EpVe"
      },
      "execution_count": 26,
      "outputs": []
    },
    {
      "cell_type": "markdown",
      "source": [
        "Create a person (i.e., a `Person` object) called `p` with unknown parents.  (You will need to give your person a first and last name.) Check the type of `p`.  Include all inputs and outputs."
      ],
      "metadata": {
        "id": "-ppMsEIVHINl"
      }
    },
    {
      "cell_type": "code",
      "source": [
        "p = Person(\"Bakshi\", \"Ishita\") # creates a Person object called p with parents set as unknown\n",
        "print(p)\n",
        "print(type(p))"
      ],
      "metadata": {
        "id": "5bwid_6gHIBH",
        "colab": {
          "base_uri": "https://localhost:8080/"
        },
        "outputId": "8b4e7abb-a20f-49cb-86ac-7aa554178c88"
      },
      "execution_count": 27,
      "outputs": [
        {
          "output_type": "stream",
          "name": "stdout",
          "text": [
            "Ishita Bakshi\n",
            "<class '__main__.Person'>\n"
          ]
        }
      ]
    },
    {
      "cell_type": "markdown",
      "source": [
        "Verify that your `__str__` and `__repr__` functions are doing what they are supposed to do.  Include all inputs and outputs."
      ],
      "metadata": {
        "id": "Z6zlUC3xRtal"
      }
    },
    {
      "cell_type": "code",
      "source": [
        "print(p)\n",
        "print(repr(p)) # returns the string represntation of the object \"p\""
      ],
      "metadata": {
        "id": "jZO0dBQYRs-K",
        "colab": {
          "base_uri": "https://localhost:8080/"
        },
        "outputId": "e954cf96-f594-4e40-f81b-e2466ebea85c"
      },
      "execution_count": 28,
      "outputs": [
        {
          "output_type": "stream",
          "name": "stdout",
          "text": [
            "Ishita Bakshi\n",
            "Person('Bakshi', 'Ishita', 'unknown', 'unknown')\n"
          ]
        }
      ]
    },
    {
      "cell_type": "markdown",
      "source": [
        "Suppose the mother of `p` has been found and is named Taylor Swift.  Create a new person named Taylor Swift, and make her the mother of `p`:\n",
        "\n",
        "```\n",
        "> p.mother\n",
        "'Taylor Swift'\n",
        "```"
      ],
      "metadata": {
        "id": "1mOAThQiHzoQ"
      }
    },
    {
      "cell_type": "code",
      "source": [
        "p.mother = \"Taylor Swift\" #reassigns mother from \"unknown\" to \"Taylor Swift\"\n",
        "print(repr(p))"
      ],
      "metadata": {
        "id": "NYbDOorpHymz",
        "colab": {
          "base_uri": "https://localhost:8080/"
        },
        "outputId": "0e2a8610-f23e-456a-b1a8-5e2f0d725505"
      },
      "execution_count": 29,
      "outputs": [
        {
          "output_type": "stream",
          "name": "stdout",
          "text": [
            "Person('Bakshi', 'Ishita', 'Taylor Swift', 'unknown')\n"
          ]
        }
      ]
    },
    {
      "cell_type": "markdown",
      "source": [
        "2.  Add some methods to your class.  Start by copying the `class` definition you already wrote.  Then, inside the `class` definition:\n",
        "\n",
        "  (a) Write a method called `unknownParent()` which returns `True` if any parent is 'unknown' and `False` otherwise.\n",
        "\n",
        "  (b) Write a method called `maternalGrandmother()` which returns the mother's mother.  If the mother is unknown, it should return 'unknown'.\n",
        "\n"
      ],
      "metadata": {
        "id": "1g1pcrmFHzGh"
      }
    },
    {
      "cell_type": "code",
      "source": [
        "class Person:\n",
        "  def __init__(self, lastName, firstName, mother='unknown', father='unknown'):\n",
        "    self.lastName = lastName\n",
        "    self.firstName = firstName\n",
        "    self.mother = mother\n",
        "    self.father = father\n",
        "\n",
        "  def __str__(self):\n",
        "    return f\"{self.firstName} {self.lastName}\"\n",
        "\n",
        "  def __repr__(self):\n",
        "    return f\"Person('{self.lastName}', '{self.firstName}', '{self.mother}', '{self.father}')\"\n",
        "\n",
        "  def unknownParent(self): # creates the unnown parent function\n",
        "    if self.mother == \"unknown\" or self.father == \"unknown\": # if either parent is unknow, return True\n",
        "       return True\n",
        "    else:\n",
        "       return False\n",
        "\n",
        "  def maternalGrandmother(self):\n",
        "    if self.mother is None: # if the grandmother is not known, returns \"unknown\"\n",
        "      return 'unknown'\n",
        "    elif self.mother.mother is None:\n",
        "      return 'unknown'\n",
        "    else:\n",
        "      return self.mother.mother # this requires the grandmother to be known and defined"
      ],
      "metadata": {
        "id": "7mIxJGwwKTpv"
      },
      "execution_count": 36,
      "outputs": []
    },
    {
      "cell_type": "markdown",
      "source": [
        "Create enough `Person` objects to test whether your methods are working properly.  Show all your inputs and outputs.  It is up to you to demonstrate that you have thoroughly tested the code.  You may use additional code and/or text chunks if it helps."
      ],
      "metadata": {
        "id": "l9-4gxd8FxAQ"
      }
    },
    {
      "cell_type": "code",
      "source": [
        "# 3 Person objects to test the unknownparent code\n",
        "person1 = Person(\"Bakshi\", \"Ishita\", \"Megha Bakshi\", \"Arindam Bakshi\")\n",
        "person2 = Person(\"Jackson\", \"Percy\", \"Sally Jackson\")\n",
        "person3 = Person(\"Perry\", \"Katy\")\n",
        "\n",
        "# testing the Person objects\n",
        "print(person1.unknownParent()) # should return \"True\" because both parents are defined\n",
        "print(person2.unknownParent()) # should return \"False\" because only one parent is defined\n",
        "print(person3.unknownParent()) # should return \"False\" because neither parent is defined"
      ],
      "metadata": {
        "id": "gX1qpcKzFwoZ",
        "colab": {
          "base_uri": "https://localhost:8080/"
        },
        "outputId": "e4439d4c-74d9-4e78-b319-6c12b71d4dcc"
      },
      "execution_count": 31,
      "outputs": [
        {
          "output_type": "stream",
          "name": "stdout",
          "text": [
            "False\n",
            "True\n",
            "True\n"
          ]
        }
      ]
    },
    {
      "cell_type": "code",
      "source": [
        "# 3 Person objects to test the maternalGrandmother code\n",
        "# The daughter is Ishita Bakshi, the mother is Ria Bakshi, and the grandmother is Megha Bakshi\n",
        "Megha = Person(\"Bakshi\", \"Megha\")\n",
        "Ria = Person(\"Bakshi\", \"Ria\", Megha)\n",
        "Ishita = Person(\"Bakshi\", \"Ishita\", Ria)\n",
        "\n",
        "print(Ishita.maternalGrandmother()) # this should return Megha Bakshi"
      ],
      "metadata": {
        "colab": {
          "base_uri": "https://localhost:8080/"
        },
        "id": "w3WORfGY5ybz",
        "outputId": "3384dbdd-cab0-483d-f649-b8d532c717e2"
      },
      "execution_count": 37,
      "outputs": [
        {
          "output_type": "stream",
          "name": "stdout",
          "text": [
            "Megha Bakshi\n"
          ]
        }
      ]
    },
    {
      "cell_type": "code",
      "source": [
        "# another version of the 3 Person objects to test the maternalGrandmother code\n",
        "# The daughter is Ishita Bakshi, the mother is Ria Bakshi, and the grandmother is Megha Bakshi\n",
        "Megha = Person(\"Bakshi\", \"Megha\")\n",
        "Ria = Person(\"Bakshi\", \"Ria\")\n",
        "Ishita = Person(\"Bakshi\", \"Ishita\", Ria)\n",
        "\n",
        "print(Ishita.maternalGrandmother()) # this should return unknown"
      ],
      "metadata": {
        "colab": {
          "base_uri": "https://localhost:8080/"
        },
        "id": "LtHjaTX8_zRu",
        "outputId": "627d9f62-cb8a-4928-f7ee-72d640697f3c"
      },
      "execution_count": 38,
      "outputs": [
        {
          "output_type": "stream",
          "name": "stdout",
          "text": [
            "unknown\n"
          ]
        }
      ]
    }
  ]
}