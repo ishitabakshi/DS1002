{
  "nbformat": 4,
  "nbformat_minor": 0,
  "metadata": {
    "colab": {
      "provenance": [],
      "authorship_tag": "ABX9TyM+tSujZlt9Oo7ZFI2jpIyU",
      "include_colab_link": true
    },
    "kernelspec": {
      "name": "python3",
      "display_name": "Python 3"
    },
    "language_info": {
      "name": "python"
    }
  },
  "cells": [
    {
      "cell_type": "markdown",
      "metadata": {
        "id": "view-in-github",
        "colab_type": "text"
      },
      "source": [
        "<a href=\"https://colab.research.google.com/github/ishitabakshi/DS1002/blob/main/Words_Homework.ipynb\" target=\"_parent\"><img src=\"https://colab.research.google.com/assets/colab-badge.svg\" alt=\"Open In Colab\"/></a>"
      ]
    },
    {
      "cell_type": "code",
      "execution_count": 2,
      "metadata": {
        "colab": {
          "base_uri": "https://localhost:8080/"
        },
        "id": "yj4QTu9GM7KH",
        "outputId": "6a2e111b-03f5-431d-bd5e-af43fc1c82ea"
      },
      "outputs": [
        {
          "output_type": "stream",
          "name": "stdout",
          "text": [
            "Collecting english_words\n",
            "  Downloading english-words-2.0.1.tar.gz (8.2 MB)\n",
            "\u001b[2K     \u001b[90m━━━━━━━━━━━━━━━━━━━━━━━━━━━━━━━━━━━━━━━━\u001b[0m \u001b[32m8.2/8.2 MB\u001b[0m \u001b[31m33.9 MB/s\u001b[0m eta \u001b[36m0:00:00\u001b[0m\n",
            "\u001b[?25h  Installing build dependencies ... \u001b[?25l\u001b[?25hdone\n",
            "  Getting requirements to build wheel ... \u001b[?25l\u001b[?25hdone\n",
            "  Preparing metadata (pyproject.toml) ... \u001b[?25l\u001b[?25hdone\n",
            "Building wheels for collected packages: english_words\n",
            "  Building wheel for english_words (pyproject.toml) ... \u001b[?25l\u001b[?25hdone\n",
            "  Created wheel for english_words: filename=english_words-2.0.1-py3-none-any.whl size=8196238 sha256=d1ab13e172326c39018269ac7092297e665763fec87400f26187106ee607578e\n",
            "  Stored in directory: /root/.cache/pip/wheels/f0/e6/d9/16a123647999fe535f03a36e7af23eef203736d84c7ca25b0b\n",
            "Successfully built english_words\n",
            "Installing collected packages: english_words\n",
            "Successfully installed english_words-2.0.1\n"
          ]
        }
      ],
      "source": [
        "!pip install english_words\n",
        "from english_words import get_english_words_set\n",
        "words = get_english_words_set(['web2'], lower=True)\n",
        "\n",
        "type(words) # Tells us that this data type is a set\n",
        "wordlist = list(words) # Converts the set into a list\n",
        "# print(wordlist) returns \"IOPub data rate has been exceeded\" meaning it is an overwhelmingly large output\n"
      ]
    },
    {
      "cell_type": "code",
      "source": [
        "wordlist10 = wordlist[:10] # Prints the first 10 words in wordlist\n",
        "print(wordlist10)"
      ],
      "metadata": {
        "colab": {
          "base_uri": "https://localhost:8080/"
        },
        "id": "SD-cAEZvPhTO",
        "outputId": "37a55190-2904-4d0f-9ce7-621c0895fe79"
      },
      "execution_count": 3,
      "outputs": [
        {
          "output_type": "stream",
          "name": "stdout",
          "text": [
            "['repray', 'resweep', 'mohammedist', 'caddo', 'hyracotheriinae', 'myosynizesis', 'facultatively', 'acroscleroderma', 'erythroscope', 'beyond']\n"
          ]
        }
      ]
    },
    {
      "cell_type": "code",
      "source": [
        "alpha_list = wordlist10 # Renames this list\n",
        "alpha_list.sort() # Sorts the first 10 words in the list is alphabetic order\n",
        "print(alpha_list)"
      ],
      "metadata": {
        "colab": {
          "base_uri": "https://localhost:8080/"
        },
        "id": "SN09wkKoPttK",
        "outputId": "3740ac23-d981-4440-cad4-dc9a34a35ac0"
      },
      "execution_count": 4,
      "outputs": [
        {
          "output_type": "stream",
          "name": "stdout",
          "text": [
            "['acroscleroderma', 'beyond', 'caddo', 'erythroscope', 'facultatively', 'hyracotheriinae', 'mohammedist', 'myosynizesis', 'repray', 'resweep']\n"
          ]
        }
      ]
    },
    {
      "cell_type": "code",
      "source": [
        "count = 0\n",
        "for word in alpha_list:\n",
        "  if word.startswith('a'): # Detemines how many words in alpha_list starts with an \"a\"\n",
        "    count += 1 # Adds the amount of words to the count, which was set to begin at 0 in line 1\n",
        "print(\"The number of words that start with 'a' is \" + str(count) + \".\" )\n",
        "\n",
        "count = 0\n",
        "for word in alpha_list:\n",
        "  if 'q' in word:\n",
        "    count += 1\n",
        "print(\"The number of words that have the letter 'q' is \" + str(count) + \".\" )\n",
        "\n",
        "count = 0\n",
        "for word in alpha_list:\n",
        "  if 'e' not in word:\n",
        "    count += 1\n",
        "fraction = str(count) + \"/10\"\n",
        "print(f\"The fraction of words that do not have the letter 'e' is {fraction}. \")"
      ],
      "metadata": {
        "colab": {
          "base_uri": "https://localhost:8080/"
        },
        "id": "oVDY77yyTLRQ",
        "outputId": "5aeda76f-3188-4abe-db69-aeb6a59400c4"
      },
      "execution_count": 17,
      "outputs": [
        {
          "output_type": "stream",
          "name": "stdout",
          "text": [
            "The number of words that start with 'a' is 1.\n",
            "The number of words that have the letter 'q' is 0.\n",
            "The fraction of words that do not have the letter 'e' is 1/10. \n"
          ]
        }
      ]
    },
    {
      "cell_type": "code",
      "source": [
        "import numpy as np\n",
        "array1 = np.array(wordlist10) # Converting word list to an array\n",
        "\n",
        "alphabet = [chr(i) for i in range(ord('a'),ord('z')+1)] # This prints the alphabet in order\n",
        "print(alphabet)"
      ],
      "metadata": {
        "colab": {
          "base_uri": "https://localhost:8080/"
        },
        "id": "6qYlGDYqSVRy",
        "outputId": "8c307cfc-8c76-46bc-c33b-a3baff3a1e60"
      },
      "execution_count": 21,
      "outputs": [
        {
          "output_type": "stream",
          "name": "stdout",
          "text": [
            "['a', 'b', 'c', 'd', 'e', 'f', 'g', 'h', 'i', 'j', 'k', 'l', 'm', 'n', 'o', 'p', 'q', 'r', 's', 't', 'u', 'v', 'w', 'x', 'y', 'z']\n"
          ]
        }
      ]
    },
    {
      "cell_type": "code",
      "source": [
        "import matplotlib.pyplot as plt\n",
        "\n",
        "letter_count = {}\n",
        "for word in wordlist10:\n",
        "    first_letter = word[0].upper() # This extracts the first letter and makes it upper case because I like it better it visually\n",
        "    if first_letter in letter_count:\n",
        "        letter_count[first_letter] += 1\n",
        "    else:\n",
        "        letter_count[first_letter] = 1\n",
        "\n",
        "letters = list(letter_count.keys())\n",
        "counts = list(letter_count.values())\n",
        "\n",
        "plt.bar(letters, counts) # Creates the the bar plot\n",
        "\n",
        "plt.xlabel('Letters') # Adds labels and titles\n",
        "plt.ylabel('Number of words')\n",
        "plt.title('Number of words starting with each letter')\n",
        "\n",
        "plt.show() # Displays the plot\n"
      ],
      "metadata": {
        "colab": {
          "base_uri": "https://localhost:8080/",
          "height": 472
        },
        "id": "yklu2vyeTFCx",
        "outputId": "23418808-3316-48e0-99af-255d398f8c63"
      },
      "execution_count": 30,
      "outputs": [
        {
          "output_type": "display_data",
          "data": {
            "text/plain": [
              "<Figure size 640x480 with 1 Axes>"
            ],
            "image/png": "[encoded data removed]"
          },
          "metadata": {}
        }
      ]
    },
    {
      "cell_type": "code",
      "source": [
        "longest_words = sorted(wordlist10, key=len, reverse=True)[:6] # Sorts the words from increasing length, reverses the list, and takes the first 6 items\n",
        "print(\"The 6 longest words are:\", longest_words)\n"
      ],
      "metadata": {
        "colab": {
          "base_uri": "https://localhost:8080/"
        },
        "id": "5ZXKm-AZWAgZ",
        "outputId": "0e0563a1-0755-420e-df2e-07ae9f943743"
      },
      "execution_count": 33,
      "outputs": [
        {
          "output_type": "stream",
          "name": "stdout",
          "text": [
            "The 6 longest words are: ['acroscleroderma', 'hyracotheriinae', 'facultatively', 'erythroscope', 'myosynizesis', 'mohammedist']\n"
          ]
        }
      ]
    },
    {
      "cell_type": "code",
      "source": [
        "word_length = [len(word) for word in wordlist10] # This calculates the length of each word and stores it\n",
        "count_word_length= {length: word_length.count(length) for length in set(word_length)} # This creates a dictionary where is stores how many times a word length appears\n",
        "\n",
        "length = list(count_word_length.keys())\n",
        "counts = list(count_word_length.values())\n",
        "\n",
        "plt.bar(length, counts, align='center')\n",
        "\n",
        "plt.xlabel('Word Length') # Adds labels and titles\n",
        "plt.ylabel('Number of Words')\n",
        "plt.title('Histogram of Word Lengths')\n",
        "\n",
        "plt.show() # Displays the plot\n",
        "\n",
        "\n",
        "most_common_length = max(count_word_length, key=count_word_length.get) # Finds the most common length of a word\n",
        "print(\"Most common length of a word:\", most_common_length) # I do not know how to get this to disply 6, 12, and 15\n",
        "\n",
        "\n"
      ],
      "metadata": {
        "colab": {
          "base_uri": "https://localhost:8080/",
          "height": 490
        },
        "id": "Pov7vatIYLTq",
        "outputId": "92187a4e-7550-4cf6-b04f-47dc293c1518"
      },
      "execution_count": 43,
      "outputs": [
        {
          "output_type": "display_data",
          "data": {
            "text/plain": [
              "<Figure size 640x480 with 1 Axes>"
            ],
            "image/png": "[encoded data removed]"
          },
          "metadata": {}
        },
        {
          "output_type": "stream",
          "name": "stdout",
          "text": [
            "Most common length of a word: 6\n"
          ]
        }
      ]
    },
    {
      "cell_type": "code",
      "source": [
        "count_va = sum(1 for word in wordlist10 if 'v' in word and 'a' in word) #Counts how many time v and a appear in the same word\n",
        "print(\"Number of words containing both 'v' and 'a':\", count_va)\n",
        "\n",
        "count_wl = sum(1 for word in wordlist10 if \"w\" in word and \"l\" in word) #Counts how many time w and l appear in the same word\n",
        "print(\"Number of words containing both 'w' and 'l':\", count_wl)\n",
        "\n",
        "#I was not able to be in class for this lesson, so this might now be how we went over this\n",
        "#This takes 0s to run"
      ],
      "metadata": {
        "colab": {
          "base_uri": "https://localhost:8080/"
        },
        "id": "3jXznwabbTfX",
        "outputId": "84d11121-06ce-48fa-8df7-1ed1103f6e86"
      },
      "execution_count": 44,
      "outputs": [
        {
          "output_type": "stream",
          "name": "stdout",
          "text": [
            "Number of words containing both 'v' and 'a': 1\n",
            "Number of words containing both 'w' and 'l': 0\n"
          ]
        }
      ]
    }
  ]
}