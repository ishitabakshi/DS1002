{
  "nbformat": 4,
  "nbformat_minor": 0,
  "metadata": {
    "colab": {
      "provenance": [],
      "include_colab_link": true
    },
    "kernelspec": {
      "name": "python3",
      "display_name": "Python 3"
    },
    "language_info": {
      "name": "python"
    }
  },
  "cells": [
    {
      "cell_type": "markdown",
      "metadata": {
        "id": "view-in-github",
        "colab_type": "text"
      },
      "source": [
        "<a href=\"https://colab.research.google.com/github/ishitabakshi/DS1002/blob/main/Copy_of_14_TextGeneration.ipynb\" target=\"_parent\"><img src=\"https://colab.research.google.com/assets/colab-badge.svg\" alt=\"Open In Colab\"/></a>"
      ]
    },
    {
      "cell_type": "markdown",
      "source": [
        "## Final homework assignment:  generating text from a corpus\n",
        "\n",
        "Due Friday 3 May at 5 pm"
      ],
      "metadata": {
        "id": "tWbrZqoW5281"
      }
    },
    {
      "cell_type": "markdown",
      "source": [
        "We begin by loading all of Shakespeare's plays into a text file, and separating them into individual words.  This is made easy by the fact that someone already made a giant text file of these plays for us, and put it online.\n",
        "\n",
        "[Note that by changing the url in the following code chunk, you can load any text file that lives online in this way . . . see below.]\n",
        "\n",
        "Run the following code.  It should output a list of ten words, starting with 'From' and ending with 'rose'."
      ],
      "metadata": {
        "id": "7tMMjgkjF7gk"
      }
    },
    {
      "cell_type": "code",
      "source": [
        "from urllib.request import urlopen            #package for reading info from the web\n",
        "url='https://ocw.mit.edu/ans7870/6/6.006/s08/lecturenotes/files/t8.shakespeare.txt'   #web address\n",
        "text = urlopen(url).read().decode('utf-8')    #open web address, read file, convert to text\n",
        "shakespeare_words=text.split()[1651:]         #split text into words (not including preamble)\n",
        "shakespeare_words[:10]                        #display the first 10 words"
      ],
      "metadata": {
        "id": "PoW71ljm2GS-",
        "colab": {
          "base_uri": "https://localhost:8080/"
        },
        "outputId": "fe956e67-6adb-4f16-b868-08fbce72e8d4"
      },
      "execution_count": 18,
      "outputs": [
        {
          "output_type": "execute_result",
          "data": {
            "text/plain": [
              "['From',\n",
              " 'fairest',\n",
              " 'creatures',\n",
              " 'we',\n",
              " 'desire',\n",
              " 'increase,',\n",
              " 'That',\n",
              " 'thereby',\n",
              " \"beauty's\",\n",
              " 'rose']"
            ]
          },
          "metadata": {},
          "execution_count": 18
        }
      ]
    },
    {
      "cell_type": "markdown",
      "source": [
        "## 1. `nextwords` practice\n",
        "\n",
        "Create a practice function called `createNextwordsPractice` which takes a list of words called `wordlist` and returns a dictionary called `nextwordsPractice`. The keys of `nextwordsPractice` should be all the words in `wordlist`, and the value for any given key should be a list of all the words that follow the key word somewhere in the original `wordlist`.\n",
        "\n"
      ],
      "metadata": {
        "id": "AIeohQaAHRF8"
      }
    },
    {
      "cell_type": "code",
      "source": [
        "def createNextwordsPractice(wordlist):\n",
        "  nextwordsPractice = {}\n",
        "  for i in range(len(wordlist) - 1):\n",
        "    current_word = wordlist[i]\n",
        "    next_word = wordlist[i + 1]\n",
        "    if current_word in nextwordsPractice:\n",
        "      nextwordsPractice[current_word].append(next_word)\n",
        "    else:\n",
        "      nextwordsPractice[current_word] = [next_word]\n",
        "    nextwordsPractice[current_word] = [next_word]\n",
        "  return nextwordsPractice"
      ],
      "metadata": {
        "id": "2XZa2K3C3InW"
      },
      "execution_count": 19,
      "outputs": []
    },
    {
      "cell_type": "markdown",
      "source": [
        "Run the following code:"
      ],
      "metadata": {
        "id": "FH3N2raWjtfd"
      }
    },
    {
      "cell_type": "code",
      "source": [
        "practice = createNextwordsPractice(shakespeare_words)\n",
        "practice['From']"
      ],
      "metadata": {
        "id": "P3M8beYAjiie",
        "colab": {
          "base_uri": "https://localhost:8080/"
        },
        "outputId": "152f9c02-9324-4637-f8bb-e8190d02565e"
      },
      "execution_count": 20,
      "outputs": [
        {
          "output_type": "execute_result",
          "data": {
            "text/plain": [
              "['off']"
            ]
          },
          "metadata": {},
          "execution_count": 20
        }
      ]
    },
    {
      "cell_type": "code",
      "source": [
        "practice['rose']"
      ],
      "metadata": {
        "id": "W5FCOXElICLb",
        "colab": {
          "base_uri": "https://localhost:8080/"
        },
        "outputId": "04075dcc-7202-4340-b495-fb863a4673d8"
      },
      "execution_count": 21,
      "outputs": [
        {
          "output_type": "execute_result",
          "data": {
            "text/plain": [
              "['he']"
            ]
          },
          "metadata": {},
          "execution_count": 21
        }
      ]
    },
    {
      "cell_type": "code",
      "source": [
        "practice['rose.']"
      ],
      "metadata": {
        "id": "Vr57wNx5BO4K",
        "colab": {
          "base_uri": "https://localhost:8080/"
        },
        "outputId": "84ca4e1e-9996-4329-ab6b-d8883af82c33"
      },
      "execution_count": 22,
      "outputs": [
        {
          "output_type": "execute_result",
          "data": {
            "text/plain": [
              "['It']"
            ]
          },
          "metadata": {},
          "execution_count": 22
        }
      ]
    },
    {
      "cell_type": "markdown",
      "source": [
        "## 2. `nextwords` for real:  new sentences.\n",
        "\n",
        "Next, write a new function called `createNextwords` which takes a `wordlist` and returns a dictionary of `nextwords`, but now with a new additional feature.  \n",
        "In addition to the keys from problem 1, add a special key to the dictionary, which will be the symbol '%'.  This key will signify the first word of a sentence. When scanning the wordlist to construct the `nextwords` dictionary, normally you would add `wordlist[i+1]` to the list `nextwords[wordlist[i]]`. However, if `wordlist[i]` ends with a period, then you should instead add `wordlist[i+1]` to the list nextwords['%']. Also add the very first word of `wordlist` to nextwords['%'].\n",
        "\n",
        "\n",
        "You should be able to produce this output:\n",
        "```\n",
        "> shakespeare_nextwords=createNextwords(shakespeare_words)\n",
        "> shakespeare_nextwords['Rose']\n",
        "['at', 'or', 'or', 'and']\n",
        "\n",
        "> shakespeare_nextwords['rose.']\n",
        "[]\n",
        "\n",
        "> len(shakespeare_nextwords['%'])\n",
        "76543\n",
        "```"
      ],
      "metadata": {
        "id": "t221x1X3iRVA"
      }
    },
    {
      "cell_type": "code",
      "source": [
        "def createNextwords(wordlist):\n",
        "  nextwords = {'%': [wordlist[0]]}  # Initialize '%' key with the first word\n",
        "  for i in range(len(wordlist) - 1):\n",
        "    current_word = wordlist[i]\n",
        "    next_word = wordlist[i + 1]\n",
        "    if current_word.endswith('.'):\n",
        "      if '%' in nextwords:  # Check if '%' key already exists\n",
        "        nextwords['%'].append(next_word)\n",
        "      else:\n",
        "        nextwords['%'] = [next_word]\n",
        "    else:\n",
        "      if current_word in nextwords:\n",
        "          nextwords[current_word].append(next_word)\n",
        "      else:\n",
        "          nextwords[current_word] = [next_word]\n",
        "  return nextwords\n"
      ],
      "metadata": {
        "id": "PLoE1KuQx30a"
      },
      "execution_count": 23,
      "outputs": []
    },
    {
      "cell_type": "markdown",
      "source": [
        "Run the following code:"
      ],
      "metadata": {
        "id": "x7bamoxBlX6Q"
      }
    },
    {
      "cell_type": "code",
      "source": [
        "shakespeare_nextwords = createNextwords(shakespeare_words)\n",
        "\n",
        "print(shakespeare_nextwords['Rose'])\n",
        "print(len(shakespeare_nextwords['%']))"
      ],
      "metadata": {
        "id": "xv4ANlzvlZ2e",
        "colab": {
          "base_uri": "https://localhost:8080/"
        },
        "outputId": "4ca40a9d-1078-448a-f879-b8eda2370a16"
      },
      "execution_count": 24,
      "outputs": [
        {
          "output_type": "stream",
          "name": "stdout",
          "text": [
            "['at', 'or', 'or', 'and']\n",
            "76543\n"
          ]
        }
      ]
    },
    {
      "cell_type": "code",
      "source": [
        "print(len(shakespeare_nextwords['rose']))"
      ],
      "metadata": {
        "id": "NsLW7PYYCj1r",
        "colab": {
          "base_uri": "https://localhost:8080/"
        },
        "outputId": "592a5ee1-7230-4269-dd74-b416e3ac21e9"
      },
      "execution_count": 25,
      "outputs": [
        {
          "output_type": "stream",
          "name": "stdout",
          "text": [
            "40\n"
          ]
        }
      ]
    },
    {
      "cell_type": "code",
      "source": [
        "print(shakespeare_nextwords['rose.']) # this call does not work because the key does not esist"
      ],
      "metadata": {
        "id": "NyjLxUKiIPqG",
        "colab": {
          "base_uri": "https://localhost:8080/",
          "height": 144
        },
        "outputId": "fbcecb6b-da27-40ed-fc37-753fb7e3b295"
      },
      "execution_count": 26,
      "outputs": [
        {
          "output_type": "error",
          "ename": "KeyError",
          "evalue": "'rose.'",
          "traceback": [
            "\u001b[0;31m---------------------------------------------------------------------------\u001b[0m",
            "\u001b[0;31mKeyError\u001b[0m                                  Traceback (most recent call last)",
            "\u001b[0;32m<ipython-input-26-e07f115e935a>\u001b[0m in \u001b[0;36m<cell line: 1>\u001b[0;34m()\u001b[0m\n\u001b[0;32m----> 1\u001b[0;31m \u001b[0mprint\u001b[0m\u001b[0;34m(\u001b[0m\u001b[0mshakespeare_nextwords\u001b[0m\u001b[0;34m[\u001b[0m\u001b[0;34m'rose.'\u001b[0m\u001b[0;34m]\u001b[0m\u001b[0;34m)\u001b[0m \u001b[0;31m# this call does not work because the key does not esist\u001b[0m\u001b[0;34m\u001b[0m\u001b[0;34m\u001b[0m\u001b[0m\n\u001b[0m",
            "\u001b[0;31mKeyError\u001b[0m: 'rose.'"
          ]
        }
      ]
    },
    {
      "cell_type": "markdown",
      "source": [
        "## 3.  Make your own Shakespeare play\n",
        "\n",
        "Okay, that may be a bit of an exaggeration.  Anyway, next up is text generation.  \n",
        "We'll need the choice function:"
      ],
      "metadata": {
        "id": "BCIAfYSIX3VC"
      }
    },
    {
      "cell_type": "code",
      "source": [
        "from random import choice"
      ],
      "metadata": {
        "id": "rbBHDv55Biae"
      },
      "execution_count": 27,
      "outputs": []
    },
    {
      "cell_type": "markdown",
      "source": [
        "This function chooses a random element from a list.  Run this code a few times:"
      ],
      "metadata": {
        "id": "-vCM3Z0BmAw9"
      }
    },
    {
      "cell_type": "code",
      "source": [
        "choice([1, 17, 34, 289])"
      ],
      "metadata": {
        "colab": {
          "base_uri": "https://localhost:8080/"
        },
        "id": "FGMf-UmAl_uf",
        "outputId": "1c162680-a53b-471d-a568-66bbbd9add6b"
      },
      "execution_count": 28,
      "outputs": [
        {
          "output_type": "execute_result",
          "data": {
            "text/plain": [
              "289"
            ]
          },
          "metadata": {},
          "execution_count": 28
        }
      ]
    },
    {
      "cell_type": "markdown",
      "source": [
        "Now, create a function called `makePlay(nextwords,n)` which takes a dictionary `nextwords` and a number `n`, and follows these steps:\n",
        "1. Define an empty `newplay` string.  (I did this for you.)\n",
        "2. Set `currentword` equal to '%'.\n",
        "3. Start a for-loop that will run `n` times.\n",
        "4. Randomly choose a word from the list `nextwords[currentword]`.\n",
        "5. Add the chosen word to `newplay`, followed by a space `' '` character.\n",
        "6. If the chosen word ends in a period, add a newline character '\\n' and set `currentword` equal to `%`.\n",
        "7. Otherwise, set `currentword` equal to the chosen word.\n",
        "8. Go back to step 4.\n",
        "9. When all `n` iterations have finished, your function should return `newplay`."
      ],
      "metadata": {
        "id": "ZmLqxclQYMpl"
      }
    },
    {
      "cell_type": "code",
      "source": [
        "import random\n",
        "\n",
        "def makePlay(nextwords,n):\n",
        "  newplay=''\n",
        "  currentword = '%'  # set the currentword equal to '%'\n",
        "\n",
        "  for _ in range(n):  # start a for-loop that will run n times\n",
        "    chosen_word = random.choice(nextwords[currentword])  # select a word from the list nextwords[currentword]\n",
        "    newplay += chosen_word + ' '  # add the chosen word to newplay\n",
        "\n",
        "    if chosen_word.endswith('.'):  # if the chosen word ends in a period\n",
        "      newplay += '\\n'  # add a newline character '\\n'\n",
        "      currentword = '%'  # set the currentword equal to '%'\n",
        "    else:\n",
        "      currentword = chosen_word  # set the currentword equal to the chosen word\n",
        "\n",
        "  return newplay"
      ],
      "metadata": {
        "id": "zu-7pGSHe5Vm"
      },
      "execution_count": 29,
      "outputs": []
    },
    {
      "cell_type": "markdown",
      "source": [
        "Now create a 1000 word Shakesperian play by running the following code:"
      ],
      "metadata": {
        "id": "v_uCxqDZtuhP"
      }
    },
    {
      "cell_type": "code",
      "source": [
        "nextwords=createNextwords(shakespeare_words)\n",
        "newplay=makePlay(nextwords,1000)\n",
        "print(newplay)"
      ],
      "metadata": {
        "colab": {
          "base_uri": "https://localhost:8080/"
        },
        "id": "HqhI1qaPe91s",
        "outputId": "37aec371-5b2f-4844-dc6f-aa1dc8f3bc5c"
      },
      "execution_count": 30,
      "outputs": [
        {
          "output_type": "stream",
          "name": "stdout",
          "text": [
            "The palace perish they boast to all ill! In right Of Sycorax, For Queen, Lennox, with his breathless housewife that handkerchief Spotted with I persuaded, how you more. \n",
            "Let them both, my mouth; meaning Of our eyes of the pity) his day. \n",
            "[Takes out of these lisping hawthorn-buds that cannot drown more like the great flourish When we deserve my lord? BRUTUS. \n",
            "I have consider'd and I subscribe; My heart with such violent carriage is best, with faults As gentle lord! TROILUS. \n",
            "LAFEU. \n",
            "SPEED. \n",
            "Re-enter LUCETTA LUCETTA. \n",
            "I see how do it right. \n",
            "'Tis hatch'd, and the spirit in strong proof enough between us. \n",
            "CASSIO. \n",
            "O slaves, than they executed. \n",
            "GLOUCESTER. \n",
            "What nearer to proud insulting Queen, that he knew him hence, Then never will climb up of your best of any case. \n",
            "What you the air do better part from off my walls TALBOT. \n",
            "SICINIUS. \n",
            "Alas, my will. \n",
            "There is dead, and honesty should proceed. \n",
            "Heralds, wait on such a new monsters whom I wot on. \n",
            "He shall she will they are most famous to die, die, meantime let us remove! The like this my love amends. \n",
            "Sir, you gave me bury a thousand ducats. \n",
            "Gentle kinsman, whom I can not Orlando. \n",
            "SHALLOW. \n",
            "Come, let's to thee married To see him tranc'd. \n",
            "MRS. \n",
            "That thieves do them to twist so sell my master! Sure, you tumbled from the wealth together; Myself in the spring. \n",
            "Go to Egypt Might well esteemed: So now Live a fire; and, in my lord, This palpable-gross play hath fortuned. \n",
            "[Exit.] Pedro. \n",
            "What is't not the cate-log [Pulling SIMPLE out] What, is laid up, and train BASSANIO. \n",
            "My gracious golden, glittering gold. \n",
            "It shows horrible pleasure. \n",
            "Ay, but three hot meat and here comes the field, RICHMOND, and swear beauty is able body, consecrate the stars From heartiness, from feasting. \n",
            "Nay, then, But let my rapier, boy. \n",
            "Kent. \n",
            "'Tis pity dwells Benedick, [Beatrice,] Margaret, Ursula, waiting so nominated in the cage. \n",
            "What would not but though it is I fear. \n",
            "My Lord Mayor is Mistress Ford, I look like the gain By your happiness to woo her, saw but that shines everywhere. \n",
            "CLOWN. \n",
            "How doth this stone, and their heads] No more! These fifteen years! by And, madam, keep my thinking. \n",
            "But, O, true, Drugs poison yet know the stars shot out Falstaff. \n",
            "King. \n",
            "[Aside] How mean to behold What hath moe offers, use her i' th' palace, with his way impeach thy disposition Sticks deeper, Whereof, perchance, both born to. \n",
            "Nurse. \n",
            "Away! Exit SCENE IV. \n",
            "It shall be in Naples, that belongs to sorrow But I am not simple and bids you ratcatcher, will I for he is bounty's foe; Being so ill and he awaking when the deputy. \n",
            "Say 'I am merrier day A hit, either side I shall not for a nunnery! Why should hear- Nay, we part, I know thee thy letter; do say, my lord, dear lord? CHIEF JUSTICE. \n",
            "Amen. \n",
            "CHARLES. \n",
            "Put your crafts! You are set the Great; the billows of these bloody host, an ox, were to our fruit by His wit ambles well; yet let us from my sovereign, And twice or if you understand: that for Edward. \n",
            "I would not one with thee, or pluck thee every wand'ring air; and making God amend! We attend thy wedding-day? Against the cramp. \n",
            "O, I thank my eyes Would, with clapping him. \n",
            "A. \n",
            "By our peace, peace! see more a cut, he still look you leave them; if it be fat, and no allowance give good a little personal in the swan her uncle must be spent in my other mickle age. \n",
            "Late did dine too unchary out; he would it ill done, Let me The KING HENRY. \n",
            "It was, the sudden and mark his familiars to bear off to know the gods confound me How if Fortune pursue me desire too nigh your commendation is afoot thou the heavens restore! Endeavour thyself 'From the disposing of your Grace shall be talking. \n",
            "GLOUCESTER. \n",
            "Give them curtsy to choose trusty Pompey. \n",
            "Verona. \n",
            "SECOND LORD. \n",
            "Go, get thee from me with those are Even those things call'd Himself best of guilty, Cardinal, The instruments to the death with my tears! I come from me Which often, like a poor earl's daughter of day of my chamber. \n",
            "If he shall beg mortality, Rather to Henry Percy, his baby beats her head, Let us happy day. \n",
            "74 But for you. \n",
            "Do you love. \n",
            "What of subjection, noble and made a pair of those peals of his favour. \n",
            "Retreat and Antonio and most virtuous husband's limbs, in Anjou Enter Friar, I drunk with A right noble Neapolitan, Outcast of the glory smear'd in the sword on the wished coast. \n",
            "BERTRAM. \n",
            "YOU hear a fairer former wave. \n",
            "OTHELLO. \n",
            "Lo, he so? LYSANDER. \n",
            "Merely through The spirits and fret the two in the white shown. \n",
            "Lear. \n",
            "Peter, take corruption Inhabits in your friend, A place make the knight oppos'd. \n",
            "Pedro. \n",
            "Come, we of thy master's bed: Thy shape which thou fool; he's but remember it to say I; 'My daughter! That talk'd of the earth. \n",
            "A meacock wretch whose merit makes huge legs of kings. \n",
            "Rom. \n",
            "Rom. \n",
            "Come, how it be too liberal.' LAUNCE. \n",
            "There's more kindly for my heart; But not thine enemies my prayers For any here in burning coal; The rest in his love? Ah, York, out of you. \n",
            "Beauties no flatterer. \n",
            "I blush of my lord of. \n",
            "My native coast. \n",
            "My accuser is not amiss to Thursday? Par. \n",
            "I shall stand upon! Exeunt. \n",
            "By my love; yea, and girls to Calchas' tent. \n",
            "Thou bear'st love him any think that, answering one wise when I live like him your thoughts do I play for we meet him for a stone, nor the comfort Touching the noble and get your bed to me. \n",
            "Queen. \n",
            "VALENTINE. \n",
            "PANTHINO. \n",
            "HOLOFERNES. \n",
            "This, my foe. \n",
            "He must teach a dove? Thou hadst, thou didst thou think 'a never may. \n",
            "O, speak the dead and strength in action we are \n"
          ]
        }
      ]
    },
    {
      "cell_type": "markdown",
      "source": [
        "At this point you might enjoy finding other sources of text on the internet and replacing the url at the top of this notebook. You can use song lyrics, news articles, etc. You just need to find files ending with '.txt'. Alternatively, you can copy and paste any block of text from any file into colab, assign it to the variable `text`, and then use wordlist=text.split() to get a list of words."
      ],
      "metadata": {
        "id": "cHcYHBcNu65y"
      }
    },
    {
      "cell_type": "markdown",
      "source": [
        "## Bonus:\n",
        "\n",
        "Recall the following recursive function that we used to define the Fibonacci numbers:"
      ],
      "metadata": {
        "id": "SOZ_vzwJoG45"
      }
    },
    {
      "cell_type": "code",
      "source": [
        "def fibonacci(n):\n",
        "  # Base cases: F(0) = 0, F(1) = 1\n",
        "  if n == 0:\n",
        "    return 0\n",
        "  elif n == 1:\n",
        "    return 1\n",
        "  else:\n",
        "    # Recursive case: F(n) = F(n-1) + F(n-2)\n",
        "    return fibonacci(n - 1) + fibonacci(n - 2)\n"
      ],
      "metadata": {
        "id": "KTj2L--_oQDu"
      },
      "execution_count": 31,
      "outputs": []
    },
    {
      "cell_type": "markdown",
      "source": [
        "Here is the question.  If you run this line of code:  \n",
        "`fibonacci(17)`  \n",
        "how many times does the function `fibonacci()` get called?  \n",
        "(The answer is not 1597, which is the value returned by the function.)"
      ],
      "metadata": {
        "id": "C-PtiPKwod0m"
      }
    },
    {
      "cell_type": "code",
      "source": [
        "def fibonacci(n, counter=None):\n",
        "    if counter is None:\n",
        "        counter = [0]\n",
        "\n",
        "    counter[0] += 1\n",
        "\n",
        "    if n == 0:\n",
        "        return 0\n",
        "    elif n == 1:\n",
        "        return 1\n",
        "    else:\n",
        "        return fibonacci(n - 1, counter) + fibonacci(n - 2, counter)\n",
        "\n",
        "result = fibonacci(17) # call the function with fibonacci(17)\n",
        "\n",
        "# print the number of times the function was called\n",
        "print(result)"
      ],
      "metadata": {
        "colab": {
          "base_uri": "https://localhost:8080/"
        },
        "id": "40zuzwYGgk9T",
        "outputId": "097932e1-92ec-435d-f40e-1e536f47ca3c"
      },
      "execution_count": 36,
      "outputs": [
        {
          "output_type": "stream",
          "name": "stdout",
          "text": [
            "1597\n"
          ]
        }
      ]
    },
    {
      "cell_type": "markdown",
      "source": [
        "I think the function fibonacci() gets calles 5167 times. To find this I added a counter variable within the function and added a value each time the function is called."
      ],
      "metadata": {
        "id": "dTYeRFbrgs8-"
      }
    }
  ]
}